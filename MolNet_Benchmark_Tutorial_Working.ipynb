{
 "cells": [
  {
   "cell_type": "markdown",
   "metadata": {
    "id": "blY1hg-dJRgA"
   },
   "source": [
    "# MoleculeNet Benchmarking\n",
    "By [Nathan C. Frey](https://ncfrey.github.io/) | [Twitter](https://twitter.com/nc_frey)\n",
    " \n",
    "This notebook shows how to benchmark model performance on a dataset from MoleculeNet and collect validation and test set metrics for the [MoleculeNet Leaderboard](https://github.com/deepchem/moleculenet).\n",
    "\n",
    "As an example, we use Bayesian optimization to tune the hyperparameters of a random forest and a GraphConv model to predict solubilities of small molecules from the [Delaney dataset](https://pubs.acs.org/doi/10.1021/ci034243x)."
   ]
  },
  {
   "cell_type": "markdown",
   "metadata": {
    "id": "wi3tcnn7YGln"
   },
   "source": [
    "### Install condacolab\n",
    "`condacolab` installs `mamba` or `miniconda` and automatically restarts the kernel. You'll see a \"session crashed unexpectedly\" message, but you can safely ignore this."
   ]
  },
  {
   "cell_type": "code",
   "execution_count": 3,
   "metadata": {},
   "outputs": [],
   "source": [
    "# !pip install torch torchvision torchaudio\n",
    "# !pip install --upgrade \"jax[cpu]\"\n",
    "# !pip install transformers\n",
    "# !pip install lightning\n",
    "# !pip install torch-scatter -f https://data.pyg.org/whl/torch-2.2.0+cpu.html\n",
    "# !pip install torch-sparse -f https://data.pyg.org/whl/torch-2.2.0+cpu.html\n",
    "# !pip install torch-geometric"
   ]
  },
  {
   "cell_type": "code",
   "execution_count": 1,
   "metadata": {
    "executionInfo": {
     "elapsed": 7389,
     "status": "ok",
     "timestamp": 1619553990356,
     "user": {
      "displayName": "Nathan Frey",
      "photoUrl": "https://lh3.googleusercontent.com/a-/AOh14GiCEtTj6AL3entEShxjitkGUQo5YhZ7CJA0917VzA=s64",
      "userId": "14838914823565259795"
     },
     "user_tz": 240
    },
    "id": "qrW-Bi6vrJQv"
   },
   "outputs": [
    {
     "name": "stderr",
     "output_type": "stream",
     "text": [
      "No normalization for SPS. Feature removed!\n",
      "No normalization for AvgIpc. Feature removed!\n",
      "No normalization for NumAmideBonds. Feature removed!\n",
      "No normalization for NumAtomStereoCenters. Feature removed!\n",
      "No normalization for NumBridgeheadAtoms. Feature removed!\n",
      "No normalization for NumHeterocycles. Feature removed!\n",
      "No normalization for NumSpiroAtoms. Feature removed!\n",
      "No normalization for NumUnspecifiedAtomStereoCenters. Feature removed!\n",
      "No normalization for Phi. Feature removed!\n",
      "/Users/L035578/Project/deepchem/lib/python3.9/site-packages/tqdm/auto.py:21: TqdmWarning: IProgress not found. Please update jupyter and ipywidgets. See https://ipywidgets.readthedocs.io/en/stable/user_install.html\n",
      "  from .autonotebook import tqdm as notebook_tqdm\n"
     ]
    },
    {
     "name": "stdout",
     "output_type": "stream",
     "text": [
      "WARNING:tensorflow:From /Users/L035578/Project/deepchem/lib/python3.9/site-packages/tensorflow/python/util/deprecation.py:588: calling function (from tensorflow.python.eager.polymorphic_function.polymorphic_function) with experimental_relax_shapes is deprecated and will be removed in a future version.\n",
      "Instructions for updating:\n",
      "experimental_relax_shapes is deprecated, use reduce_retracing instead\n"
     ]
    },
    {
     "name": "stderr",
     "output_type": "stream",
     "text": [
      "Skipped loading some Jax models, missing a dependency. No module named 'haiku'\n"
     ]
    }
   ],
   "source": [
    "import rdkit\n",
    "import deepchem as dc"
   ]
  },
  {
   "cell_type": "markdown",
   "metadata": {
    "id": "ysCoe5dpfQEi"
   },
   "source": [
    "### Clone the `moleculenet` repo"
   ]
  },
  {
   "cell_type": "markdown",
   "metadata": {
    "id": "tUzuv7gDfUIR"
   },
   "source": [
    "Clone the `moleculenet` repo or your fork and branch of the `moleculenet` repo to access a benchmarking script."
   ]
  },
  {
   "cell_type": "code",
   "execution_count": 2,
   "metadata": {
    "colab": {
     "base_uri": "https://localhost:8080/"
    },
    "executionInfo": {
     "elapsed": 1143,
     "status": "ok",
     "timestamp": 1619554003939,
     "user": {
      "displayName": "Nathan Frey",
      "photoUrl": "https://lh3.googleusercontent.com/a-/AOh14GiCEtTj6AL3entEShxjitkGUQo5YhZ7CJA0917VzA=s64",
      "userId": "14838914823565259795"
     },
     "user_tz": 240
    },
    "id": "cVkcJCeaRsUH",
    "outputId": "0e15f117-ac05-45fc-a1b4-e9a0e22cc5bb"
   },
   "outputs": [],
   "source": [
    "# !git clone https://github.com/deepchem/moleculenet.git\n",
    "# !git clone --single-branch --branch <branch-name> https://github.com/<username>/moleculenet.git\n",
    "# !(cd moleculenet && git pull)"
   ]
  },
  {
   "cell_type": "code",
   "execution_count": 7,
   "metadata": {},
   "outputs": [],
   "source": [
    "# !pip install pickleshare"
   ]
  },
  {
   "cell_type": "code",
   "execution_count": 2,
   "metadata": {
    "colab": {
     "base_uri": "https://localhost:8080/"
    },
    "executionInfo": {
     "elapsed": 323,
     "status": "ok",
     "timestamp": 1619554006498,
     "user": {
      "displayName": "Nathan Frey",
      "photoUrl": "https://lh3.googleusercontent.com/a-/AOh14GiCEtTj6AL3entEShxjitkGUQo5YhZ7CJA0917VzA=s64",
      "userId": "14838914823565259795"
     },
     "user_tz": 240
    },
    "id": "O2AwiNJzR9nN",
    "outputId": "0f4f3583-d3e8-4a6b-f3e4-bf0d99bb3aa8"
   },
   "outputs": [
    {
     "name": "stdout",
     "output_type": "stream",
     "text": [
      "/Users/L035578/Project/Projects/MD3/moleculenet/examples\n"
     ]
    }
   ],
   "source": [
    "%cd examples/"
   ]
  },
  {
   "cell_type": "markdown",
   "metadata": {
    "id": "9ChnoOEmSSeW"
   },
   "source": [
    "### Run benchmarking script with hyperparameter search\n",
    "The `--help` option displays the possible arguments and default values. For a benchmarking run, you should run a hyperparameter search with Bayesian optimization by specifying `-hs` and setting the relevant parameters like `-r` and `-nt`. The moleculenet scripts use the [hyperopt library](http://hyperopt.github.io/hyperopt/) for hyperparameter optimization. The hyperparameter search space can be modified in the molnet python script (*e.g.*, `fingerprint.py`, `gnn.py`, etc.) if desired.\n",
    "\n",
    "If you don't specify the result path argument (`-p`), the results will be saved in `moleculenet/examples/results`. A folder is created for each trial of the hyperparameter search, and inside you will see `configure.json` (with the hyperparameters for that run) and `eval.txt` with the validation and test set metrics."
   ]
  },
  {
   "cell_type": "code",
   "execution_count": 8,
   "metadata": {
    "colab": {
     "base_uri": "https://localhost:8080/"
    },
    "executionInfo": {
     "elapsed": 4187,
     "status": "ok",
     "timestamp": 1619551484844,
     "user": {
      "displayName": "Nathan Frey",
      "photoUrl": "https://lh3.googleusercontent.com/a-/AOh14GiCEtTj6AL3entEShxjitkGUQo5YhZ7CJA0917VzA=s64",
      "userId": "14838914823565259795"
     },
     "user_tz": 240
    },
    "id": "6fluprLahdbU",
    "outputId": "0dae48e6-97a4-4a05-b554-ab5a234cea2c"
   },
   "outputs": [
    {
     "name": "stdout",
     "output_type": "stream",
     "text": [
      "No normalization for SPS. Feature removed!\n",
      "No normalization for AvgIpc. Feature removed!\n",
      "No normalization for NumAmideBonds. Feature removed!\n",
      "No normalization for NumAtomStereoCenters. Feature removed!\n",
      "No normalization for NumBridgeheadAtoms. Feature removed!\n",
      "No normalization for NumHeterocycles. Feature removed!\n",
      "No normalization for NumSpiroAtoms. Feature removed!\n",
      "No normalization for NumUnspecifiedAtomStereoCenters. Feature removed!\n",
      "No normalization for Phi. Feature removed!\n",
      "WARNING:tensorflow:From /Users/L035578/Project/deepchem/lib/python3.9/site-packages/tensorflow/python/util/deprecation.py:588: calling function (from tensorflow.python.eager.polymorphic_function.polymorphic_function) with experimental_relax_shapes is deprecated and will be removed in a future version.\n",
      "Instructions for updating:\n",
      "experimental_relax_shapes is deprecated, use reduce_retracing instead\n",
      "Skipped loading modules with pytorch-geometric dependency, missing a dependency. No module named 'dgl'\n",
      "Skipped loading some Jax models, missing a dependency. No module named 'haiku'\n",
      "usage: Examples for MoleculeNet with fingerprint [-h]\n",
      "                                                 [-d {BACE_classification,BACE_regression,BBBP,ClinTox,Delaney,HOPV,SIDER,Lipo}]\n",
      "                                                 [-m {RF}] [-f {ECFP}]\n",
      "                                                 [-p RESULT_PATH]\n",
      "                                                 [-r NUM_RUNS] [-hs]\n",
      "                                                 [-nt NUM_TRIALS]\n",
      "\n",
      "optional arguments:\n",
      "  -h, --help            show this help message and exit\n",
      "  -d {BACE_classification,BACE_regression,BBBP,ClinTox,Delaney,HOPV,SIDER,Lipo}, --dataset {BACE_classification,BACE_regression,BBBP,ClinTox,Delaney,HOPV,SIDER,Lipo}\n",
      "                        Dataset to use\n",
      "  -m {RF}, --model {RF}\n",
      "                        Options include 1) random forest (RF) (default: RF)\n",
      "  -f {ECFP}, --featurizer {ECFP}\n",
      "                        Options include 1) ECFP (default: ECFP)\n",
      "  -p RESULT_PATH, --result-path RESULT_PATH\n",
      "                        Path to save training results (default: results)\n",
      "  -r NUM_RUNS, --num-runs NUM_RUNS\n",
      "                        Number of runs for each hyperparameter configuration\n",
      "                        (default: 3)\n",
      "  -hs, --hyper-search   Whether to perform hyperparameter search or use the\n",
      "                        default configuration. (default: False)\n",
      "  -nt NUM_TRIALS, --num-trials NUM_TRIALS\n",
      "                        Number of trials for hyperparameter search (default:\n",
      "                        16)\n"
     ]
    }
   ],
   "source": [
    "!python fingerprint.py --help"
   ]
  },
  {
   "cell_type": "code",
   "execution_count": 7,
   "metadata": {},
   "outputs": [],
   "source": [
    "# !pip install hyperopt"
   ]
  },
  {
   "cell_type": "markdown",
   "metadata": {
    "id": "Qjoy_hv6ehMk"
   },
   "source": [
    "Let's run some simple benchmarks on the [Delaney drug solubility dataset](https://pubs.acs.org/doi/10.1021/ci034243x) of predicted log solubility in $mol/L$ and see how two different methods perform: 1) a random forest trained on 1024-bit circular fingerprints, and 2) a [GraphConv](https://arxiv.org/abs/1609.02907)."
   ]
  },
  {
   "cell_type": "code",
   "execution_count": 14,
   "metadata": {
    "colab": {
     "base_uri": "https://localhost:8080/"
    },
    "executionInfo": {
     "elapsed": 1314089,
     "status": "ok",
     "timestamp": 1619552898681,
     "user": {
      "displayName": "Nathan Frey",
      "photoUrl": "https://lh3.googleusercontent.com/a-/AOh14GiCEtTj6AL3entEShxjitkGUQo5YhZ7CJA0917VzA=s64",
      "userId": "14838914823565259795"
     },
     "user_tz": 240
    },
    "id": "l1ZXZwvNW3EY",
    "outputId": "5351af49-b4c0-4321-d57f-d9a248ecaed6"
   },
   "outputs": [
    {
     "name": "stdout",
     "output_type": "stream",
     "text": [
      "No normalization for SPS. Feature removed!\n",
      "No normalization for AvgIpc. Feature removed!\n",
      "No normalization for NumAmideBonds. Feature removed!\n",
      "No normalization for NumAtomStereoCenters. Feature removed!\n",
      "No normalization for NumBridgeheadAtoms. Feature removed!\n",
      "No normalization for NumHeterocycles. Feature removed!\n",
      "No normalization for NumSpiroAtoms. Feature removed!\n",
      "No normalization for NumUnspecifiedAtomStereoCenters. Feature removed!\n",
      "No normalization for Phi. Feature removed!\n",
      "WARNING:tensorflow:From /Users/L035578/Project/deepchem/lib/python3.9/site-packages/tensorflow/python/util/deprecation.py:588: calling function (from tensorflow.python.eager.polymorphic_function.polymorphic_function) with experimental_relax_shapes is deprecated and will be removed in a future version.\n",
      "Instructions for updating:\n",
      "experimental_relax_shapes is deprecated, use reduce_retracing instead\n",
      "Skipped loading modules with pytorch-geometric dependency, missing a dependency. No module named 'dgl'\n",
      "Skipped loading some Jax models, missing a dependency. No module named 'haiku'\n",
      "Directory results already exists.\n",
      "Start hyperparameter search with Bayesian optimization for 16 trials\n",
      "Created directory results/1                                                     \n",
      "Created directory results/2                                                     \n",
      "Created directory results/3                                                     \n",
      "Created directory results/4                                                     \n",
      "Created directory results/5                                                     \n",
      "Created directory results/6                                                     \n",
      "Created directory results/7                                                     \n",
      "Created directory results/8                                                     \n",
      "Created directory results/9                                                     \n",
      "Created directory results/10                                                    \n",
      "Created directory results/11                                                    \n",
      "Created directory results/12                                                    \n",
      "Created directory results/13                                                    \n",
      "Created directory results/14                                                    \n",
      "Created directory results/15                                                    \n",
      "Created directory results/16                                                    \n",
      "100%|█████████| 16/16 [01:18<00:00,  4.93s/trial, best loss: 1.8116009485085804]\n",
      "Best val rmse: 1.8116 +- 0.0092\n",
      "Test rmse: 1.7092 +- 0.0131\n"
     ]
    }
   ],
   "source": [
    "!python fingerprint.py -d Delaney -hs\n",
    "!cat results/eval.txt"
   ]
  },
  {
   "cell_type": "markdown",
   "metadata": {
    "id": "yQaWu2g50wMo"
   },
   "source": [
    "After training the random forest model with 16 different hyperparameter configurations (and repeating each 3 times to collect statistics for the validation and test errors) and using Bayesian optimization, we find an optimal set of model hyperparameters (saved in `examples/configure.json`). We have a validation RMSE of 1.78 $\\pm$ 0.008 and a test RMSE of 1.69 $\\pm$ 0.001. "
   ]
  },
  {
   "cell_type": "markdown",
   "metadata": {
    "id": "EZFmAMJF5KBp"
   },
   "source": [
    "Next, let's look at the same dataset with GraphConv models."
   ]
  },
  {
   "cell_type": "code",
   "execution_count": 4,
   "metadata": {
    "colab": {
     "base_uri": "https://localhost:8080/"
    },
    "executionInfo": {
     "elapsed": 3044,
     "status": "ok",
     "timestamp": 1619553179526,
     "user": {
      "displayName": "Nathan Frey",
      "photoUrl": "https://lh3.googleusercontent.com/a-/AOh14GiCEtTj6AL3entEShxjitkGUQo5YhZ7CJA0917VzA=s64",
      "userId": "14838914823565259795"
     },
     "user_tz": 240
    },
    "id": "-ZI2DGMP0sKU",
    "outputId": "e36ba06d-5391-49ad-f0db-d6448ce533f7"
   },
   "outputs": [
    {
     "name": "stdout",
     "output_type": "stream",
     "text": [
      "No normalization for SPS. Feature removed!\n",
      "No normalization for AvgIpc. Feature removed!\n",
      "No normalization for NumAmideBonds. Feature removed!\n",
      "No normalization for NumAtomStereoCenters. Feature removed!\n",
      "No normalization for NumBridgeheadAtoms. Feature removed!\n",
      "No normalization for NumHeterocycles. Feature removed!\n",
      "No normalization for NumSpiroAtoms. Feature removed!\n",
      "No normalization for NumUnspecifiedAtomStereoCenters. Feature removed!\n",
      "No normalization for Phi. Feature removed!\n",
      "WARNING:tensorflow:From /Users/L035578/Project/deepchem/lib/python3.9/site-packages/tensorflow/python/util/deprecation.py:588: calling function (from tensorflow.python.eager.polymorphic_function.polymorphic_function) with experimental_relax_shapes is deprecated and will be removed in a future version.\n",
      "Instructions for updating:\n",
      "experimental_relax_shapes is deprecated, use reduce_retracing instead\n",
      "Skipped loading modules with pytorch-geometric dependency, missing a dependency. No module named 'dgl'\n",
      "Skipped loading some Jax models, missing a dependency. No module named 'haiku'\n",
      "usage: Examples for MoleculeNet with GNN [-h]\n",
      "                                         [-d {BACE_classification,BACE_regression,BBBP,ClinTox,Delaney,HOPV,SIDER,Lipo}]\n",
      "                                         [-m {GCN}] [-f {GC}] [-p RESULT_PATH]\n",
      "                                         [-r NUM_RUNS] [-pa PATIENCE] [-hs]\n",
      "                                         [-nt NUM_TRIALS]\n",
      "\n",
      "optional arguments:\n",
      "  -h, --help            show this help message and exit\n",
      "  -d {BACE_classification,BACE_regression,BBBP,ClinTox,Delaney,HOPV,SIDER,Lipo}, --dataset {BACE_classification,BACE_regression,BBBP,ClinTox,Delaney,HOPV,SIDER,Lipo}\n",
      "                        Dataset to use\n",
      "  -m {GCN}, --model {GCN}\n",
      "                        Options include 1) Graph Convolutional Network (GCN)\n",
      "                        (default: GCN)\n",
      "  -f {GC}, --featurizer {GC}\n",
      "                        Options include 1) Graph Convolution (GC) (default:\n",
      "                        GC)\n",
      "  -p RESULT_PATH, --result-path RESULT_PATH\n",
      "                        Path to save training results (default: results)\n",
      "  -r NUM_RUNS, --num-runs NUM_RUNS\n",
      "                        Number of runs for each hyperparameter configuration\n",
      "                        (default: 3)\n",
      "  -pa PATIENCE, --patience PATIENCE\n",
      "                        Number of epochs to wait before early stop if\n",
      "                        validation performance stops getting improved\n",
      "                        (default: 30)\n",
      "  -hs, --hyper-search   Whether to perform hyperparameter search or use the\n",
      "                        default configuration. (default: False)\n",
      "  -nt NUM_TRIALS, --num-trials NUM_TRIALS\n",
      "                        Number of trials for hyperparameter search (default:\n",
      "                        16)\n"
     ]
    }
   ],
   "source": [
    "!python gnn.py --help"
   ]
  },
  {
   "cell_type": "code",
   "execution_count": 13,
   "metadata": {},
   "outputs": [],
   "source": [
    "# !pip uninstall dgl dgl-cu* -y\n",
    "# !pip install dgl==1.1.2\n",
    "# !pip install dgllife==0.3.1\n"
   ]
  },
  {
   "cell_type": "code",
   "execution_count": 16,
   "metadata": {
    "colab": {
     "base_uri": "https://localhost:8080/"
    },
    "executionInfo": {
     "elapsed": 2499489,
     "status": "ok",
     "timestamp": 1619556551795,
     "user": {
      "displayName": "Nathan Frey",
      "photoUrl": "https://lh3.googleusercontent.com/a-/AOh14GiCEtTj6AL3entEShxjitkGUQo5YhZ7CJA0917VzA=s64",
      "userId": "14838914823565259795"
     },
     "user_tz": 240
    },
    "id": "-kLRSiyK5Iwo",
    "outputId": "8cc9450a-724f-4862-a845-59b819962dff"
   },
   "outputs": [
    {
     "name": "stdout",
     "output_type": "stream",
     "text": [
      "No normalization for SPS. Feature removed!\n",
      "No normalization for AvgIpc. Feature removed!\n",
      "No normalization for NumAmideBonds. Feature removed!\n",
      "No normalization for NumAtomStereoCenters. Feature removed!\n",
      "No normalization for NumBridgeheadAtoms. Feature removed!\n",
      "No normalization for NumHeterocycles. Feature removed!\n",
      "No normalization for NumSpiroAtoms. Feature removed!\n",
      "No normalization for NumUnspecifiedAtomStereoCenters. Feature removed!\n",
      "No normalization for Phi. Feature removed!\n",
      "WARNING:tensorflow:From /Users/L035578/Project/deepchem/lib/python3.9/site-packages/tensorflow/python/util/deprecation.py:588: calling function (from tensorflow.python.eager.polymorphic_function.polymorphic_function) with experimental_relax_shapes is deprecated and will be removed in a future version.\n",
      "Instructions for updating:\n",
      "experimental_relax_shapes is deprecated, use reduce_retracing instead\n",
      "Skipped loading some Jax models, missing a dependency. No module named 'haiku'\n",
      "Created directory results\n",
      "Start hyperparameter search with Bayesian optimization for 16 trials\n",
      "Created directory results/1                                                     \n",
      "  0%|                                    | 0/16 [00:00<?, ?trial/s, best loss=?]Failed to featurize datapoint 934, C. Appending empty array\n",
      "\n",
      "Exception message: More than one atom should be present in the molecule for this featurizer to work.\n",
      "\n",
      "Exception message: setting an array element with a sequence. The requested array has an inhomogeneous shape after 1 dimensions. The detected shape was (1128,) + inhomogeneous part.\n",
      "\n",
      "Created directory results/2                                                     \n",
      "  6%|▌        | 1/16 [03:32<53:02, 212.16s/trial, best loss: 1.1864197259473799]Failed to featurize datapoint 934, C. Appending empty array\n",
      "\n",
      "Exception message: More than one atom should be present in the molecule for this featurizer to work.\n",
      "\n",
      "Exception message: setting an array element with a sequence. The requested array has an inhomogeneous shape after 1 dimensions. The detected shape was (1128,) + inhomogeneous part.\n",
      "\n",
      "Created directory results/3                                                     \n",
      " 12%|█▏       | 2/16 [05:51<39:33, 169.51s/trial, best loss: 1.1864197259473799]Failed to featurize datapoint 934, C. Appending empty array\n",
      "\n",
      "Exception message: More than one atom should be present in the molecule for this featurizer to work.\n",
      "\n",
      "Exception message: setting an array element with a sequence. The requested array has an inhomogeneous shape after 1 dimensions. The detected shape was (1128,) + inhomogeneous part.\n",
      "\n",
      "Created directory results/4                                                     \n",
      " 19%|█▋       | 3/16 [07:47<31:22, 144.78s/trial, best loss: 1.1573617592699934]Failed to featurize datapoint 934, C. Appending empty array\n",
      "\n",
      "Exception message: More than one atom should be present in the molecule for this featurizer to work.\n",
      "\n",
      "Exception message: setting an array element with a sequence. The requested array has an inhomogeneous shape after 1 dimensions. The detected shape was (1128,) + inhomogeneous part.\n",
      "\n",
      "Created directory results/5                                                     \n",
      " 25%|██▎      | 4/16 [10:18<29:27, 147.29s/trial, best loss: 1.1573617592699934]Failed to featurize datapoint 934, C. Appending empty array\n",
      "\n",
      "Exception message: More than one atom should be present in the molecule for this featurizer to work.\n",
      "\n",
      "Exception message: setting an array element with a sequence. The requested array has an inhomogeneous shape after 1 dimensions. The detected shape was (1128,) + inhomogeneous part.\n",
      "\n",
      "Created directory results/6                                                     \n",
      " 31%|██▊      | 5/16 [11:57<23:47, 129.78s/trial, best loss: 1.0985570402208984]Failed to featurize datapoint 934, C. Appending empty array\n",
      "\n",
      "Exception message: More than one atom should be present in the molecule for this featurizer to work.\n",
      "\n",
      "Exception message: setting an array element with a sequence. The requested array has an inhomogeneous shape after 1 dimensions. The detected shape was (1128,) + inhomogeneous part.\n",
      "\n",
      "Created directory results/7                                                     \n",
      " 38%|███▍     | 6/16 [13:45<20:25, 122.53s/trial, best loss: 1.0007097674413752]Failed to featurize datapoint 934, C. Appending empty array\n",
      "\n",
      "Exception message: More than one atom should be present in the molecule for this featurizer to work.\n",
      "\n",
      "Exception message: setting an array element with a sequence. The requested array has an inhomogeneous shape after 1 dimensions. The detected shape was (1128,) + inhomogeneous part.\n",
      "\n",
      "Created directory results/8                                                     \n",
      " 44%|███▉     | 7/16 [15:49<18:27, 123.00s/trial, best loss: 1.0007097674413752]Failed to featurize datapoint 934, C. Appending empty array\n",
      "\n",
      "Exception message: More than one atom should be present in the molecule for this featurizer to work.\n",
      "\n",
      "Exception message: setting an array element with a sequence. The requested array has an inhomogeneous shape after 1 dimensions. The detected shape was (1128,) + inhomogeneous part.\n",
      "\n",
      "Created directory results/9                                                     \n",
      " 50%|████▌    | 8/16 [18:32<18:05, 135.65s/trial, best loss: 0.9726640935221651]Failed to featurize datapoint 934, C. Appending empty array\n",
      "\n",
      "Exception message: More than one atom should be present in the molecule for this featurizer to work.\n",
      "\n",
      "Exception message: setting an array element with a sequence. The requested array has an inhomogeneous shape after 1 dimensions. The detected shape was (1128,) + inhomogeneous part.\n",
      "\n",
      "Created directory results/10                                                    \n",
      " 56%|█████    | 9/16 [21:28<17:18, 148.40s/trial, best loss: 0.9726640935221651]Failed to featurize datapoint 934, C. Appending empty array\n",
      "\n",
      "Exception message: More than one atom should be present in the molecule for this featurizer to work.\n",
      "\n",
      "Exception message: setting an array element with a sequence. The requested array has an inhomogeneous shape after 1 dimensions. The detected shape was (1128,) + inhomogeneous part.\n",
      "\n",
      "Created directory results/11                                                    \n",
      " 62%|█████   | 10/16 [23:28<13:58, 139.71s/trial, best loss: 0.9623916568495878]Failed to featurize datapoint 934, C. Appending empty array\n",
      "\n",
      "Exception message: More than one atom should be present in the molecule for this featurizer to work.\n",
      "\n",
      "Exception message: setting an array element with a sequence. The requested array has an inhomogeneous shape after 1 dimensions. The detected shape was (1128,) + inhomogeneous part.\n",
      "\n",
      "Created directory results/12                                                    \n",
      " 69%|█████▌  | 11/16 [25:15<10:48, 129.65s/trial, best loss: 0.9623916568495878]Failed to featurize datapoint 934, C. Appending empty array\n",
      "\n",
      "Exception message: More than one atom should be present in the molecule for this featurizer to work.\n",
      "\n",
      "Exception message: setting an array element with a sequence. The requested array has an inhomogeneous shape after 1 dimensions. The detected shape was (1128,) + inhomogeneous part.\n",
      "\n",
      "Created directory results/13                                                    \n",
      " 75%|██████  | 12/16 [26:25<07:25, 111.37s/trial, best loss: 0.9623916568495878]Failed to featurize datapoint 934, C. Appending empty array\n",
      "\n",
      "Exception message: More than one atom should be present in the molecule for this featurizer to work.\n",
      "\n",
      "Exception message: setting an array element with a sequence. The requested array has an inhomogeneous shape after 1 dimensions. The detected shape was (1128,) + inhomogeneous part.\n",
      "\n",
      "Created directory results/14                                                    \n",
      " 81%|██████▌ | 13/16 [28:42<05:57, 119.25s/trial, best loss: 0.9623916568495878]Failed to featurize datapoint 934, C. Appending empty array\n",
      "\n",
      "Exception message: More than one atom should be present in the molecule for this featurizer to work.\n",
      "\n",
      "Exception message: setting an array element with a sequence. The requested array has an inhomogeneous shape after 1 dimensions. The detected shape was (1128,) + inhomogeneous part.\n",
      "\n",
      "Created directory results/15                                                    \n",
      " 88%|███████ | 14/16 [30:04<03:35, 107.91s/trial, best loss: 0.9623916568495878]Failed to featurize datapoint 934, C. Appending empty array\n",
      "\n",
      "Exception message: More than one atom should be present in the molecule for this featurizer to work.\n",
      "\n",
      "Exception message: setting an array element with a sequence. The requested array has an inhomogeneous shape after 1 dimensions. The detected shape was (1128,) + inhomogeneous part.\n",
      "\n",
      "Created directory results/16                                                    \n",
      " 94%|███████▌| 15/16 [31:56<01:49, 109.04s/trial, best loss: 0.9623916568495878]Failed to featurize datapoint 934, C. Appending empty array\n",
      "\n",
      "Exception message: More than one atom should be present in the molecule for this featurizer to work.\n",
      "\n",
      "Exception message: setting an array element with a sequence. The requested array has an inhomogeneous shape after 1 dimensions. The detected shape was (1128,) + inhomogeneous part.\n",
      "\n",
      "100%|████████| 16/16 [33:50<00:00, 126.90s/trial, best loss: 0.9623916568495878]\n",
      "Best val rmse: 0.9624 +- 0.0241\n",
      "Test rmse: 0.8616 +- 0.0158\n"
     ]
    }
   ],
   "source": [
    "!python gnn.py -d Delaney -hs\n",
    "!cat results/eval.txt"
   ]
  },
  {
   "cell_type": "markdown",
   "metadata": {
    "id": "n3JwQpz5HFid"
   },
   "source": [
    "The GraphConv model is quite a bit more sophisticated than a random forest, so it's good to see that it performs much better in predicting solubility. And unlike random forests, which have comparatively simple hyperparameters to tune, here we tuned the dropout, learning rate, number of hidden layers and features within each layer, so Bayesian optimization is critical to really evaluate the model performance."
   ]
  },
  {
   "cell_type": "markdown",
   "metadata": {
    "id": "om-IzfmSgAZI"
   },
   "source": [
    "### Run benchmark with `configure.json`\n",
    "Alternatively, you can simply add a `<DATASET_NAME>.json` file in a folder called `'configures/<MODEL_NAME>_<FEATURIZER_NAME>.json` that specifies the hyperparameters and runs the benchmark without a hyperparameter search."
   ]
  },
  {
   "cell_type": "code",
   "execution_count": 17,
   "metadata": {
    "colab": {
     "base_uri": "https://localhost:8080/"
    },
    "executionInfo": {
     "elapsed": 69638,
     "status": "ok",
     "timestamp": 1619557197779,
     "user": {
      "displayName": "Nathan Frey",
      "photoUrl": "https://lh3.googleusercontent.com/a-/AOh14GiCEtTj6AL3entEShxjitkGUQo5YhZ7CJA0917VzA=s64",
      "userId": "14838914823565259795"
     },
     "user_tz": 240
    },
    "id": "NYHk3KKggC9w",
    "outputId": "16a9a125-b4cc-4bf1-dff2-8768cfd8c4f4"
   },
   "outputs": [
    {
     "name": "stdout",
     "output_type": "stream",
     "text": [
      "No normalization for SPS. Feature removed!\n",
      "No normalization for AvgIpc. Feature removed!\n",
      "No normalization for NumAmideBonds. Feature removed!\n",
      "No normalization for NumAtomStereoCenters. Feature removed!\n",
      "No normalization for NumBridgeheadAtoms. Feature removed!\n",
      "No normalization for NumHeterocycles. Feature removed!\n",
      "No normalization for NumSpiroAtoms. Feature removed!\n",
      "No normalization for NumUnspecifiedAtomStereoCenters. Feature removed!\n",
      "No normalization for Phi. Feature removed!\n",
      "WARNING:tensorflow:From /Users/L035578/Project/deepchem/lib/python3.9/site-packages/tensorflow/python/util/deprecation.py:588: calling function (from tensorflow.python.eager.polymorphic_function.polymorphic_function) with experimental_relax_shapes is deprecated and will be removed in a future version.\n",
      "Instructions for updating:\n",
      "experimental_relax_shapes is deprecated, use reduce_retracing instead\n",
      "Skipped loading some Jax models, missing a dependency. No module named 'haiku'\n",
      "Directory results already exists.\n",
      "Use the manually specified hyperparameters\n",
      "Val metric for 3 runs: 1.8341 +- 0.0226\n",
      "Test metric for 3 runs: 1.7401 +- 0.0271\n"
     ]
    }
   ],
   "source": [
    "!python fingerprint.py -d Delaney "
   ]
  },
  {
   "cell_type": "code",
   "execution_count": null,
   "metadata": {},
   "outputs": [],
   "source": []
  }
 ],
 "metadata": {
  "accelerator": "GPU",
  "colab": {
   "collapsed_sections": [],
   "name": "MolNet_Benchmark_Tutorial.ipynb",
   "provenance": [
    {
     "file_id": "1f9ESZgWtCg0ZH4ljyBszH-ooIT4b0oXs",
     "timestamp": 1613682143417
    }
   ],
   "toc_visible": true
  },
  "kernelspec": {
   "display_name": "deepchem",
   "language": "python",
   "name": "python3"
  },
  "language_info": {
   "codemirror_mode": {
    "name": "ipython",
    "version": 3
   },
   "file_extension": ".py",
   "mimetype": "text/x-python",
   "name": "python",
   "nbconvert_exporter": "python",
   "pygments_lexer": "ipython3",
   "version": "3.9.21"
  }
 },
 "nbformat": 4,
 "nbformat_minor": 0
}
